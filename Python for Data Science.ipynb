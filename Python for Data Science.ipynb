{
 "cells": [
  {
   "cell_type": "markdown",
   "metadata": {},
   "source": [
    "<a href=\"https://www.bigdatauniversity.com\"><img src = \"https://ibm.box.com/shared/static/wbqvbi6o6ip0vz55ua5gp17g4f1k7ve9.png\" width = 400> </a>\n",
    "\n",
    "<h4 align =\"center\" style=\"color: #191966\">Toronto Big Data University Meetup</h4> \n",
    "<h4 align =\"center\" style=\"color: #191966\">Intro to Python for Data Science</h4> \n",
    " \n",
    "\n",
    "<h4 align = \"center\">[Instructor: Asad Ali](https://www.linkedin.com/in/asad-ali-082a613b)</h4>\n",
    "\n",
    "\n"
   ]
  },
  {
   "cell_type": "markdown",
   "metadata": {},
   "source": [
    "# <span style=\"color: #20B2AA\">Navigating the Jupyter Notebook</span> \n",
    "\n",
    "#### There are two modes:\n",
    " - **Command Mode** allows you to navigate on the page, between cells\n",
    " - **Edit Mode** is inside the cell. Press enter to start typing and esc to stop.\n",
    "\n",
    "#### Some short cuts:\n",
    " - **h** for help\n",
    " - **shift + enter** to run cell and move to the next one\n",
    " - **ctrl + enter** to run cell and \n",
    " - **a** inserts a cell above\n",
    " - **b** inserts a cell below\n",
    " - ** c, x, v **  behave like copy, cut and paste\n",
    " - **d, d** double pressing d will delete a cell\n",
    " \n",
    " - **shift + tab** displays the help for that particular function\n",
    "\n",
    "#### Types of cells:\n",
    " - **code** which are cells that actually run commands \n",
    " - **markdown** fancy formatting, notes, etc\n",
    "\n",
    "# <span style=\"color: #20B2AA\">Python Data Types</span> #\n",
    "\n",
    "The Basics\n",
    "- **int** Integers\n",
    "- **float**  Roughly equivalent to decimal numbers \n",
    "- **string** Words or characters. They have to be enclosed within single or double quotation marks\n",
    "```python\n",
    "name = 'Asad'\n",
    "```\n",
    "```python \n",
    "goal = \"To always get a good night's sleep.\"\n",
    "```\n",
    "- ** list [ ] **  Lists of items. These items can be ints, floats, strings, or even lists of lists. The square brackets denote that they are lists\n",
    "```python \n",
    "my_shopping_list = ['apples', 'oranges', 'bananas']\n",
    "```\n",
    "- **dictionary { }** a data type with key(s) and value(s) -\n",
    "```python\n",
    "contacts = { 'Name' : 'Asad',\n",
    "'Favourite Number' : 4,\n",
    "'Friends' : ['Jack', 'Jill'] }\n",
    "```"
   ]
  },
  {
   "cell_type": "code",
   "execution_count": null,
   "metadata": {
    "collapsed": true
   },
   "outputs": [],
   "source": [
    "print type(3)"
   ]
  },
  {
   "cell_type": "code",
   "execution_count": null,
   "metadata": {
    "collapsed": false
   },
   "outputs": [],
   "source": [
    "print type(3.0)"
   ]
  },
  {
   "cell_type": "code",
   "execution_count": null,
   "metadata": {
    "collapsed": true
   },
   "outputs": [],
   "source": [
    "print type('Python')"
   ]
  },
  {
   "cell_type": "code",
   "execution_count": null,
   "metadata": {
    "collapsed": false
   },
   "outputs": [],
   "source": [
    "print type(['Data', 'Scientist'])"
   ]
  },
  {
   "cell_type": "code",
   "execution_count": null,
   "metadata": {
    "collapsed": false
   },
   "outputs": [],
   "source": [
    "print type({ 'Name' : 'Asad',\n",
    "            'Favourite Number' : 4,\n",
    "            'Friends' : ['Jack', 'Jill']})"
   ]
  },
  {
   "cell_type": "markdown",
   "metadata": {
    "collapsed": true
   },
   "source": [
    "# <span style=\"color: #20B2AA\">Basic Python Operations</span> #"
   ]
  },
  {
   "cell_type": "code",
   "execution_count": null,
   "metadata": {
    "collapsed": true
   },
   "outputs": [],
   "source": [
    "# Printing vs display"
   ]
  },
  {
   "cell_type": "code",
   "execution_count": null,
   "metadata": {
    "collapsed": false
   },
   "outputs": [],
   "source": [
    "# Example of integers"
   ]
  },
  {
   "cell_type": "code",
   "execution_count": null,
   "metadata": {
    "collapsed": false
   },
   "outputs": [],
   "source": [
    "# Example of strings"
   ]
  },
  {
   "cell_type": "code",
   "execution_count": null,
   "metadata": {
    "collapsed": true
   },
   "outputs": [],
   "source": [
    "# String addition"
   ]
  },
  {
   "cell_type": "code",
   "execution_count": null,
   "metadata": {
    "collapsed": false
   },
   "outputs": [],
   "source": [
    "# 10/3 vs. 10/3.0 and casting"
   ]
  },
  {
   "cell_type": "code",
   "execution_count": null,
   "metadata": {
    "collapsed": false
   },
   "outputs": [],
   "source": [
    "# Create your own shopping list with three items"
   ]
  },
  {
   "cell_type": "code",
   "execution_count": null,
   "metadata": {
    "collapsed": false
   },
   "outputs": [],
   "source": [
    "# Fill in the information for the dictionary below:\n",
    "{'name' : ,\n",
    " 'age' : }"
   ]
  },
  {
   "cell_type": "code",
   "execution_count": null,
   "metadata": {
    "collapsed": false
   },
   "outputs": [],
   "source": [
    "# Assigning variables\n",
    "# Use a single equals sign (=) to assign something to a variable so you can call it later\n",
    "# Everything on the right hand side gets assigned to the name on the left"
   ]
  },
  {
   "cell_type": "code",
   "execution_count": null,
   "metadata": {
    "collapsed": false
   },
   "outputs": [],
   "source": [
    "# Assign your list to the variable my_shopping_list"
   ]
  },
  {
   "cell_type": "code",
   "execution_count": null,
   "metadata": {
    "collapsed": false
   },
   "outputs": [],
   "source": [
    "# Accessing items in your list using square brackets and the position of the item\n",
    "# Python index/position starts at 0, not 1!"
   ]
  },
  {
   "cell_type": "code",
   "execution_count": null,
   "metadata": {
    "collapsed": true
   },
   "outputs": [],
   "source": [
    "# Add an item to a list using .append()"
   ]
  },
  {
   "cell_type": "code",
   "execution_count": null,
   "metadata": {
    "collapsed": false
   },
   "outputs": [],
   "source": [
    "# Determine the length of a list using len()"
   ]
  },
  {
   "cell_type": "code",
   "execution_count": null,
   "metadata": {
    "collapsed": true
   },
   "outputs": [],
   "source": [
    "# Copy the dict above, paste it below, and assign it to the variable my_dictionary"
   ]
  },
  {
   "cell_type": "code",
   "execution_count": null,
   "metadata": {
    "collapsed": false
   },
   "outputs": [],
   "source": [
    "# Access items in your dictionary using the name of the key in square brackets"
   ]
  },
  {
   "cell_type": "markdown",
   "metadata": {
    "collapsed": true
   },
   "source": [
    "# <span style=\"color: #20B2AA\">Logical Operators</span> #\n",
    "\n",
    "#### Returns a value of True or False based on a comparison.\n",
    "\n",
    "#### Examples:\n",
    "\n",
    "```python\n",
    "== equal to\n",
    "!= not equal to\n",
    "<  less than\n",
    ">  greater than\n",
    "<= less than or equal to\n",
    ">= greater than or equal to\n",
    "\n",
    "    'a' == 'a' will evaluate to True\n",
    "    4 != 4     will evaluate to False\n",
    "    3 < 8      will evaluate to True\n",
    "    10 > 1     will evaluate to True\n",
    "    1 <= 1     will evaluate to True\n",
    "    5 >= 9     will evaluate to False \n",
    "```\n",
    "\n",
    "[A useful resource can be found here](http://www.tutorialspoint.com/python/python_basic_operators.htm)\n"
   ]
  },
  {
   "cell_type": "code",
   "execution_count": null,
   "metadata": {
    "collapsed": true
   },
   "outputs": [],
   "source": [
    "# Try some operations here to get a feel for these"
   ]
  },
  {
   "cell_type": "markdown",
   "metadata": {
    "collapsed": true
   },
   "source": [
    "# <span style=\"color: #20B2AA\">If Statments, Loops and Functions</span> #"
   ]
  },
  {
   "cell_type": "code",
   "execution_count": null,
   "metadata": {
    "collapsed": false
   },
   "outputs": [],
   "source": [
    "# See if the sum of two integers is = 10\n",
    "# If it is, print 'Yay!'\n",
    "# Else, If it is equal to 9, print 'Not quite!'\n",
    "# Else, print 'Nay!'\n",
    "\n",
    "int1 = \n",
    "int2 = \n",
    "\n",
    "if ((int1 + int2) == 10):\n",
    "    print ''\n",
    "elif ((int1 + int2) == 9):\n",
    "    print ''\n",
    "else:\n",
    "    print ''"
   ]
  },
  {
   "cell_type": "code",
   "execution_count": null,
   "metadata": {
    "collapsed": false
   },
   "outputs": [],
   "source": [
    "# This loops through each item in 'my_shopping_list' and prints each item.\n",
    "\n",
    "for each_item in my_shopping_list:\n",
    "    \n",
    "    print each_item\n",
    "    \n",
    "# Now let's print each item + ' - Bought!'"
   ]
  },
  {
   "cell_type": "code",
   "execution_count": null,
   "metadata": {
    "collapsed": false
   },
   "outputs": [],
   "source": [
    "# Create a tip calculator function\n",
    "# Step 1: Take two inputs. The total before tax, and the amount you want to tip.\n",
    "# Step 2: Calculate the tip amount and save it to tip_amount\n",
    "# Step 3: Calculate the new total and return the new total.\n",
    "\n",
    "def tip_calculator(total_before_tip, tip_percentage):\n",
    "    \n",
    "    tip_percentage = \n",
    "    tip_amount = \n",
    "    new_total = total_before_tip + tip_amount\n",
    "    \n",
    "    return new_total\n",
    "    \n",
    "#This is how you call a function\n",
    "#print tip_calculator(100, 15)\n",
    "\n",
    "# An example of how we would use this function:\n",
    "#'Your new total is ' + str(tip_calculator(100,15)) + ' Dollars.'"
   ]
  },
  {
   "cell_type": "markdown",
   "metadata": {},
   "source": [
    "\n",
    "\n"
   ]
  },
  {
   "cell_type": "markdown",
   "metadata": {},
   "source": [
    "# <span style=\"color: #20B2AA\">Today's Task:</span> #\n",
    "\n",
    "\n",
    "[We are going to try and recreate the graph below of olympic athletes' heights and weights](http://www.bbc.com/news/uk-19050139)\n",
    "\n",
    "<img src = http://i.imgur.com/AALRdVr.png width=640>\n"
   ]
  },
  {
   "cell_type": "markdown",
   "metadata": {},
   "source": [
    "# <span style=\"color: #20B2AA\">Creating the scatter plot in 18 lines</span>"
   ]
  },
  {
   "cell_type": "code",
   "execution_count": 9,
   "metadata": {
    "collapsed": false,
    "scrolled": false
   },
   "outputs": [
    {
     "data": {
      "text/plain": [
       "<matplotlib.axes._subplots.AxesSubplot at 0x7fe3ce464490>"
      ]
     },
     "execution_count": 9,
     "metadata": {},
     "output_type": "execute_result"
    },
    {
     "data": {
      "image/png": "[encoded data removed]",
      "text/plain": [
       "<matplotlib.figure.Figure at 0x7fe3ce4f1110>"
      ]
     },
     "metadata": {},
     "output_type": "display_data"
    }
   ],
   "source": [
    "import pandas as pd\n",
    "import matplotlib.pyplot as plt\n",
    "plt.style.use('ggplot')\n",
    "%matplotlib inline \n",
    "\n",
    "df = pd.read_csv('/resources/messy_data.csv')\n",
    "\n",
    "df.gender = df.gender.fillna('M')\n",
    "df.country_code = df.country_code.fillna('USA')\n",
    "df.first_name = df.first_name.fillna('Fabiana')\n",
    "\n",
    "df.plot(kind='scatter',\n",
    "        x='weight_kg',\n",
    "        y='height_cm',\n",
    "        title='Your Olympic Athlete Body Match',\n",
    "        marker='s',\n",
    "        color='orange',\n",
    "        figsize=(14,8))"
   ]
  },
  {
   "cell_type": "markdown",
   "metadata": {
    "collapsed": true
   },
   "source": [
    "# <span style=\"color: #20B2AA\">Step 1: Create Data</span> "
   ]
  },
  {
   "cell_type": "code",
   "execution_count": null,
   "metadata": {
    "collapsed": false
   },
   "outputs": [],
   "source": [
    "# This import statement is how we ensure that pandas methods are available to us\n",
    "import pandas as pd\n",
    "\n",
    "# matplotlib is a plotting/graphing library\n",
    "import matplotlib.pyplot as plt\n",
    "# this is the style of plot that we want to use\n",
    "plt.style.use('ggplot')\n",
    "\n",
    "# This gives permission to draw diagrams in our notebook\n",
    "%matplotlib inline "
   ]
  },
  {
   "cell_type": "code",
   "execution_count": null,
   "metadata": {
    "collapsed": false
   },
   "outputs": [],
   "source": [
    "# The first step will be to create our own athlete\n",
    "\n",
    "\n",
    "# This dictionary called my_athlete will store all the information that we need\n",
    "# Replace my information with anything you like!\n",
    "my_athlete = {'last_name': 'Ali',\n",
    "              'first_name': 'Asad',\n",
    "              'height_cm': 175.0,\n",
    "              'weight_kg': 82.0,\n",
    "              'country': 'Zambia',\n",
    "              'country_code': 'ZMB', #CAN for Canada\n",
    "              'gender': 'M',\n",
    "              'sport': 'Archery', \n",
    "              'event': \"Men's Individual\"}\n",
    "\n",
    "my_athlete"
   ]
  },
  {
   "cell_type": "markdown",
   "metadata": {},
   "source": [
    "<span style=\"color: #FD2E33\">Now we can use a very convenient method called [.DataFrame( )](http://pandas.pydata.org/pandas-docs/stable/generated/pandas.DataFrame.html) to create a DataFrame using our data</span> \n",
    "\n",
    ">```python\n",
    "pd.DataFrame(data=my_athlete, index=[index])\n",
    "```"
   ]
  },
  {
   "cell_type": "code",
   "execution_count": null,
   "metadata": {
    "collapsed": false
   },
   "outputs": [],
   "source": [
    "pd.DataFrame(my_athlete, index=[0])"
   ]
  },
  {
   "cell_type": "markdown",
   "metadata": {
    "collapsed": true
   },
   "source": [
    "# <span style=\"color: #20B2AA\">Step 2: Read in the Rest of the Data</span> \n",
    "\n",
    "<img src = \"http://i.imgur.com/uJDPJuc.jpg\" width=640>\n",
    "\n",
    "<h4 align=\"center\" style=\"color: #FD2E33\">We use a method called [read_csv()](http://pandas.pydata.org/pandas-docs/stable/generated/pandas.read_csv.html). This is the most common format for data and most people have used csv files at some point in Excel. The read_csv method takes this file and turns it into a dataframe.</h4> \n",
    "\n",
    "<h4 align=\"center\"> [You can download the .csv file here](https://drive.google.com/file/d/0B0lqdhFbaTQ-T3E4VDlHUDFuWVU/view?usp=sharing)</h4>\n",
    "\n",
    "<img src= \"http://i.imgur.com/OumfCEQ.png\", width=640>\n",
    "\n",
    "<h4 align=\"center\" style=\"color: #FD2E33\">\n",
    "Once you've downloaded the file, just drag it in to this window to upload it to your DSWB account.</h4>\n",
    "\n",
    "---"
   ]
  },
  {
   "cell_type": "code",
   "execution_count": null,
   "metadata": {
    "collapsed": true
   },
   "outputs": [],
   "source": [
    "df = pd.read_csv('/resources/messy_data.csv')\n",
    "\n",
    "# In case the file isn't working, you can also read it directly from this url:\n",
    "# df = pd.read_csv('https://drive.google.com/uc?export=download&id=0B0lqdhFbaTQ-T3E4VDlHUDFuWVU')\n",
    "\n",
    "df"
   ]
  },
  {
   "cell_type": "code",
   "execution_count": null,
   "metadata": {
    "collapsed": true
   },
   "outputs": [],
   "source": [
    "df.shape"
   ]
  },
  {
   "cell_type": "code",
   "execution_count": null,
   "metadata": {
    "collapsed": true
   },
   "outputs": [],
   "source": [
    "df.info()"
   ]
  },
  {
   "cell_type": "code",
   "execution_count": null,
   "metadata": {
    "collapsed": true
   },
   "outputs": [],
   "source": [
    "df.describe()"
   ]
  },
  {
   "cell_type": "code",
   "execution_count": null,
   "metadata": {
    "collapsed": false
   },
   "outputs": [],
   "source": [
    "# Read the first few rows of the data. Enter a number between the parentheses to adjust\n",
    "df.head()"
   ]
  },
  {
   "cell_type": "code",
   "execution_count": null,
   "metadata": {
    "collapsed": false
   },
   "outputs": [],
   "source": [
    "# Read the last few rows of the data. Enter a number between the parentheses to adjust\n",
    "df.tail()"
   ]
  },
  {
   "cell_type": "code",
   "execution_count": null,
   "metadata": {
    "collapsed": false
   },
   "outputs": [],
   "source": [
    "# Using the .append() function, let's add our athlete from above\n",
    "df.append(my_athlete, ignore_index=True)"
   ]
  },
  {
   "cell_type": "code",
   "execution_count": null,
   "metadata": {
    "collapsed": false,
    "scrolled": true
   },
   "outputs": [],
   "source": [
    "# Whoops! Where did my_athlete go?\n",
    "df.tail()"
   ]
  },
  {
   "cell_type": "code",
   "execution_count": null,
   "metadata": {
    "collapsed": true
   },
   "outputs": [],
   "source": [
    "# Remember to save the appended DataFrame to df\n",
    "df = df.append(my_athlete, ignore_index=True)"
   ]
  },
  {
   "cell_type": "code",
   "execution_count": null,
   "metadata": {
    "collapsed": false
   },
   "outputs": [],
   "source": [
    "# Now, my_athlete should appear as the final row\n",
    "df.tail()"
   ]
  },
  {
   "cell_type": "code",
   "execution_count": null,
   "metadata": {
    "collapsed": false
   },
   "outputs": [],
   "source": [
    "# Another powerful function built in to identify all unique values\n",
    "df.sport.unique()"
   ]
  },
  {
   "cell_type": "code",
   "execution_count": null,
   "metadata": {
    "collapsed": false
   },
   "outputs": [],
   "source": [
    "# Count up how many of each label\n",
    "df.gender.value_counts()"
   ]
  },
  {
   "cell_type": "markdown",
   "metadata": {
    "collapsed": true
   },
   "source": [
    "# <span style=\"color: #20B2AA\">Step 3: How to Sort</span> \n",
    "\n",
    "### Sort using [.sort_values( )](http://pandas.pydata.org/pandas-docs/stable/generated/pandas.DataFrame.sort_values.html)\n",
    "```python \n",
    "df.sort_values(by='column_name') to sort by a single column\n",
    "```\n",
    "> The default sort order is ascending (smallest to largest)\n",
    "\n",
    "```python \n",
    "df.sort_values(by='column', ascending=False) \n",
    "```\n",
    "> This will sort from largest to smallest\n",
    "\n",
    "```python\n",
    "df.sort_values(by=['column1', 'column2'], ascending=[True,True])\n",
    "```\n",
    "> To sort by multiple columns"
   ]
  },
  {
   "cell_type": "code",
   "execution_count": null,
   "metadata": {
    "collapsed": false,
    "scrolled": true
   },
   "outputs": [],
   "source": [
    "# Sort by last name, in ascending order\n",
    "df.sort_values(by='last_name')"
   ]
  },
  {
   "cell_type": "code",
   "execution_count": null,
   "metadata": {
    "collapsed": true
   },
   "outputs": [],
   "source": [
    "# Sort by last name in ascending order, then by first name in descending order\n",
    "df.sort_values(by=['last_name', 'first_name'], ascending=[True, False])"
   ]
  },
  {
   "cell_type": "code",
   "execution_count": null,
   "metadata": {
    "collapsed": false
   },
   "outputs": [],
   "source": [
    "# Use a combination of: \n",
    "# .value_counts() \n",
    "# .head()\n",
    "# to obtain the top 5 most common first names\n",
    "\n",
    "df['first_name'].value_counts().head()"
   ]
  },
  {
   "cell_type": "code",
   "execution_count": null,
   "metadata": {
    "collapsed": false
   },
   "outputs": [],
   "source": [
    "# Sort by 'weight_kg' to obtain weights of the top 12 heaviest athletes.\n",
    "\n",
    "df.sort_values(by='weight_kg', ascending=False).head(12)"
   ]
  },
  {
   "cell_type": "code",
   "execution_count": null,
   "metadata": {
    "collapsed": false
   },
   "outputs": [],
   "source": [
    "# Sort the above alphabetically by Last Name, then First Name\n",
    "\n",
    "heaviest = df.sort_values(by='weight_kg', ascending=Foalse).head(12)\n",
    "heaviest.sort_values(by=['last_name', 'first_name'])"
   ]
  },
  {
   "cell_type": "markdown",
   "metadata": {},
   "source": [
    "# <span style=\"color: #20B2AA\">Step 4: How to Filter</span> \n",
    "\n",
    "### There are two ways to filter on a column name\n",
    "\n",
    "```python\n",
    "df.column_name\n",
    "```\n",
    "(only works if there are no spaces or special characters in the name)\n",
    "    \n",
    "```python\n",
    "df['COLUMN']\n",
    "```\n",
    "\n",
    "```python \n",
    "df[ ['COLUMN 1', 'COLUMN 2'] ]\n",
    "```\n",
    "\n",
    "Accessing a single column returns a Series, and multiple columns return a DataFrame.\n",
    "I personally prefer to use the first method and find it faster."
   ]
  },
  {
   "cell_type": "code",
   "execution_count": null,
   "metadata": {
    "collapsed": false
   },
   "outputs": [],
   "source": [
    "# Filter for the height column. This returns a Series\n",
    "\n",
    "df.height_cm"
   ]
  },
  {
   "cell_type": "code",
   "execution_count": null,
   "metadata": {
    "collapsed": false
   },
   "outputs": [],
   "source": [
    "type(df.height_cm.tail(8))"
   ]
  },
  {
   "cell_type": "code",
   "execution_count": null,
   "metadata": {
    "collapsed": false
   },
   "outputs": [],
   "source": [
    "# Display the first name, last name and country columns. \n",
    "# Display the country column first\n",
    "# Sort it by First Name, in descending order\n",
    "# This returns a DataFrame"
   ]
  },
  {
   "cell_type": "markdown",
   "metadata": {},
   "source": [
    "### Filtering based on a Condition:\n",
    "\n",
    "<img src = http://i.imgur.com/iETVE07.png width=640>"
   ]
  },
  {
   "cell_type": "code",
   "execution_count": null,
   "metadata": {
    "collapsed": true
   },
   "outputs": [],
   "source": [
    "# Filter for all Canadian athletes\n"
   ]
  },
  {
   "cell_type": "markdown",
   "metadata": {},
   "source": [
    "### Filtering on multiple conditions"
   ]
  },
  {
   "cell_type": "code",
   "execution_count": null,
   "metadata": {
    "collapsed": false
   },
   "outputs": [],
   "source": [
    "# Filter for all the Canadians that are taller than 190cm:\n",
    "conditions = (df.country == 'Canada') & (df.height_cm > 190)\n",
    "df[conditions]"
   ]
  },
  {
   "cell_type": "code",
   "execution_count": null,
   "metadata": {
    "collapsed": false
   },
   "outputs": [],
   "source": [
    "# Filter for\n",
    "# all the Canadians that are taller than 190cm \n",
    "# OR for any athlete from Rwanda. \n",
    "# Then, sort by country in alphabetical order\n",
    "\n",
    "condition_canada = df.country == ''\n",
    "condition_height = df.height_cm >   \n",
    "condition_rwanda = df.country == ''\n",
    "conditions = (condition_canada & condition_height) | (condition_rwanda)\n",
    "\n"
   ]
  },
  {
   "cell_type": "code",
   "execution_count": null,
   "metadata": {
    "collapsed": false
   },
   "outputs": [],
   "source": [
    "# Filter for all where First Name is Colin, return only the height, sorted from smallest to largest\n",
    "df[df.first_name == 'Colin']['height_cm'].sort_values()"
   ]
  },
  {
   "cell_type": "code",
   "execution_count": null,
   "metadata": {
    "collapsed": false
   },
   "outputs": [],
   "source": [
    "# Filter for all where First Name is Colin and store their heights in a variable called heights. \n",
    "# Then display the mean of their heights \n",
    "heights = df[df.first_name == 'Colin']['height_cm']\n",
    "heights.mean()"
   ]
  },
  {
   "cell_type": "markdown",
   "metadata": {},
   "source": [
    "### Slicing the dataframe\n",
    "\n",
    "### For now, we will use .ix[rows, columns] to slice by column name or position\n",
    "* Some notation:\n",
    "> for rows/columns 0 to 5 inclusive use ```1:10```\n",
    ">\n",
    "> for all rows/columns use ```:```"
   ]
  },
  {
   "cell_type": "code",
   "execution_count": null,
   "metadata": {
    "collapsed": false
   },
   "outputs": [],
   "source": [
    "# All rows and all columns\n",
    "\n",
    "df.ix[:,:]"
   ]
  },
  {
   "cell_type": "code",
   "execution_count": null,
   "metadata": {
    "collapsed": false
   },
   "outputs": [],
   "source": [
    "# By position\n",
    "\n",
    "df.ix[1:10, [1,4,5]]"
   ]
  },
  {
   "cell_type": "code",
   "execution_count": null,
   "metadata": {
    "collapsed": false,
    "scrolled": true
   },
   "outputs": [],
   "source": [
    "# By position and label\n",
    "\n",
    "df.ix[10:15, 'first_name':'sport']"
   ]
  },
  {
   "cell_type": "markdown",
   "metadata": {},
   "source": [
    "#### Exercises:"
   ]
  },
  {
   "cell_type": "markdown",
   "metadata": {},
   "source": [
    "#### Filter for all female athletes, and display last 5 rows"
   ]
  },
  {
   "cell_type": "code",
   "execution_count": null,
   "metadata": {
    "collapsed": false,
    "scrolled": true
   },
   "outputs": [],
   "source": []
  },
  {
   "cell_type": "markdown",
   "metadata": {},
   "source": [
    "#### Filter for all athletes whose sport is Swimming and sort them from tallest to shortest, then display first five"
   ]
  },
  {
   "cell_type": "code",
   "execution_count": null,
   "metadata": {
    "collapsed": false
   },
   "outputs": [],
   "source": []
  },
  {
   "cell_type": "markdown",
   "metadata": {},
   "source": [
    "#### Filter for all athletes that are from Great Britain and shorter than 1.60m, whose first name is Rebecca"
   ]
  },
  {
   "cell_type": "code",
   "execution_count": null,
   "metadata": {
    "collapsed": false
   },
   "outputs": [],
   "source": []
  },
  {
   "cell_type": "markdown",
   "metadata": {},
   "source": [
    "#### Obtain the first 5 names of all athletes that participate in Rowing with event Women's Eight OR any kind of Swimming, then sort them from A->Z"
   ]
  },
  {
   "cell_type": "code",
   "execution_count": null,
   "metadata": {
    "collapsed": true
   },
   "outputs": [],
   "source": []
  },
  {
   "cell_type": "markdown",
   "metadata": {
    "collapsed": true
   },
   "source": [
    "# <span style=\"color: #20B2AA\">Step 5: Cleaning Up the Data Set </span> \n",
    "\n",
    "\n",
    "### We've already found three things in our data set:\n",
    "1. Someone is missing a first name!\n",
    "2. There are no males in the original dataset\n",
    "3. Team USA is messing their country code"
   ]
  },
  {
   "cell_type": "code",
   "execution_count": null,
   "metadata": {
    "collapsed": false
   },
   "outputs": [],
   "source": [
    "# Find the poor soul that's missing their first name\n",
    "\n",
    "df[df.first_name.isnull()]"
   ]
  },
  {
   "cell_type": "code",
   "execution_count": null,
   "metadata": {
    "collapsed": false
   },
   "outputs": [],
   "source": [
    "# To fill, use .fillna()\n",
    "# I found Fabiana on Wikipedia and used that as the source\n",
    "\n",
    "df.first_name = df.first_name.fillna('Fabiana')"
   ]
  },
  {
   "cell_type": "code",
   "execution_count": null,
   "metadata": {
    "collapsed": false
   },
   "outputs": [],
   "source": [
    "# Filter for all male athletes\n",
    "\n",
    "df.gender.value_counts()\n",
    "\n",
    "#df.gender = df.gender.fillna('M')"
   ]
  },
  {
   "cell_type": "code",
   "execution_count": null,
   "metadata": {
    "collapsed": true
   },
   "outputs": [],
   "source": [
    "# Confirm that only Team USA is missing a country code.\n",
    "# To do this: \n",
    "# Filter for all country codes that are null\n",
    "# Return the unique values in the country column\n",
    "\n",
    "\n",
    "# Fill them in with 'USA'\n"
   ]
  },
  {
   "cell_type": "markdown",
   "metadata": {},
   "source": [
    "<h2 style=\"color: #FD2E33\">\n",
    "Save the data set using [.to_csv()](http://pandas.pydata.org/pandas-docs/stable/generated/pandas.DataFrame.to_csv.html)</h2>\n",
    "\n",
    ">```python\n",
    "df.to_csv('clean_data.csv', index=False)\n",
    "```"
   ]
  },
  {
   "cell_type": "markdown",
   "metadata": {
    "collapsed": true
   },
   "source": [
    "# <span style=\"color: #20B2AA\">Step 6:  Analyse Data and Create Charts</span> \n",
    "### We will answer these questions:\n",
    "* Create a histogram of all heights and weights\n",
    "* Create a horizontal bar chart of the median heights for Team GB Athletes\n",
    "---\n",
    "\n",
    "### We are going to do all of this using [.groupby()](http://pandas.pydata.org/pandas-docs/stable/groupby.html)\n",
    "\n",
    "> ### Split - Splitting the data into groups based on some criteria\n",
    "> ### Apply - Applying a function to each group independently\n",
    ">> - .sum()\n",
    "> - .count()\n",
    "> - .mean()\n",
    "> - .std()\n",
    "> - .size()\n",
    "> - .apply()\n",
    ">\n",
    ">### Combine - Combining the results into a data structure \n",
    "\n",
    ">### Use ```.get_group( ) ``` to access a group\n",
    "\n",
    "---\n",
    "\n",
    "### Plotting cheat sheet\n",
    "```python \n",
    "Use .plot(kind=' ')\n",
    "```\n",
    "\n",
    "Fill in the quotes with one of the plots below\n",
    ">- ‘bar’  ‘barh’ for bar plots\n",
    ">- ‘hist’ for histogram\n",
    ">- ‘box’ for boxplot\n",
    ">- ‘kde’ or 'density' for density plots\n",
    ">- ‘area’ for area plots\n",
    ">- ‘scatter’ for scatter plots\n",
    ">- ‘hexbin’ for hexagonal bin plots\n",
    ">- ‘pie’ for pie plots\n",
    "\n",
    "[The extensive documentation can be found here](http://pandas.pydata.org/pandas-docs/stable/visualization.html)"
   ]
  },
  {
   "cell_type": "code",
   "execution_count": null,
   "metadata": {
    "collapsed": false
   },
   "outputs": [],
   "source": [
    "# Histogram of heights and weights"
   ]
  },
  {
   "cell_type": "code",
   "execution_count": 44,
   "metadata": {
    "collapsed": false
   },
   "outputs": [
    {
     "data": {
      "text/plain": [
       "<matplotlib.axes._subplots.AxesSubplot at 0x7fe3cd869910>"
      ]
     },
     "execution_count": 44,
     "metadata": {},
     "output_type": "execute_result"
    },
    {
     "data": {
      "image/png": "[encoded data removed]",
      "text/plain": [
       "<matplotlib.figure.Figure at 0x7fe3cd9f4b50>"
      ]
     },
     "metadata": {},
     "output_type": "display_data"
    }
   ],
   "source": [
    "# Example of groupby. \n",
    "# Split by country and sport\n",
    "# Aggregate by the median\n",
    "# Use .ix to isolate Team GB\n",
    "# Display just the height_cm column\n",
    "# Sort from tallest to shortest\n",
    "# Obtain the top 5\n",
    "# Present in a bar chart\n",
    "\n",
    "\n",
    "df.groupby(['country', 'sport']).median().ix['Team GB']['weight_kg'].sort_values(ascending=False).tail(5).plot(kind='barh')\n",
    "\n"
   ]
  },
  {
   "cell_type": "markdown",
   "metadata": {
    "collapsed": true
   },
   "source": [
    "# <span style=\"color: #20B2AA\">Step 7:  Creating Our Visualisation</span> "
   ]
  },
  {
   "cell_type": "code",
   "execution_count": null,
   "metadata": {
    "collapsed": false
   },
   "outputs": [],
   "source": [
    "df.plot(kind='scatter',\n",
    "        x='weight_kg',\n",
    "        y='height_cm',\n",
    "        title='Your Olympic Athlete Body Match',\n",
    "        marker='s',\n",
    "        color='orange',\n",
    "        figsize=(10,8))"
   ]
  },
  {
   "cell_type": "markdown",
   "metadata": {
    "collapsed": true
   },
   "source": [
    "# <span style=\"color: #20B2AA\">Cheat Sheet</span> \n",
    "\n",
    "**Basic Operations**\n",
    "\n",
    "```python \n",
    "len(df)       # returns the lenght of the dataframe. In other words, the number of rows.           \n",
    "df.head()     # displays the first 5 rows of the dataframe. df.head(7) will display the first 7  \n",
    "df.tail()     # displays the last 5 rows of the dataframe. df.tail(7) will display the last 7    \n",
    "df.describe()\n",
    "df.info()\n",
    "df.column.value_counts()\n",
    "```\n",
    "---\n",
    "\n",
    "**Sorting**\n",
    "```python\n",
    "df.sort_values(by='column')                                          # Sort a df by column name.\n",
    "df.sort_values(by=['column1', 'column2'], ascending=[True, False])   # Sort multiple columns and specify the ordering\n",
    "```\n",
    "---\n",
    "\n",
    "**Filtering**\n",
    "```python\n",
    "df.COLUMN                   # Filtering columns by attribute   \n",
    "df['COLUMN']                # Filtering columns by label/name    \n",
    "df[['COLUMN1', 'COLUMN2']]  # Filtering for multiple columns\n",
    "```\n",
    "\n",
    "```python\n",
    "df[df.c == value]                       # Conditional filtering\n",
    "df[(df.c >= value) & (df.d < value)]    # Conditional filtering where both conditions have to be true\n",
    "df[(df.c < value) | (df.d != value)]    # Conditional filtering where either condition is true\n",
    "```\n",
    "\n",
    "---\n",
    "\n",
    "**Missing Values**\n",
    "```python\n",
    "df.column.isnull()          # Boolean mask to check for null/missing values in a column\n",
    "df.fillna(value)            # Method to fill missing cells with specified value\n",
    "```\n",
    "\n",
    "---\n",
    "\n",
    "**Groupby**\n",
    "```python\n",
    "df.groupby('column')                  .size() .mean() .min() .max()\n",
    "df.groupby(['column1', 'column2'])    .agg(['min', 'max'])\n",
    "```\n",
    "\n",
    "---\n",
    "\n",
    "**Plotting**\n",
    "```python\n",
    "df.plot(kind= , title= , x=, y= ,marker= , color=, figsize=)\n",
    "```"
   ]
  },
  {
   "cell_type": "markdown",
   "metadata": {},
   "source": [
    "http://www.fivethirtyeight.com - political blog based on statistics. Also looked at Uber in NYC\n",
    "\n",
    "http://www.flowingdata.com - brilliant visuals and tutorials\n",
    "\n",
    "http://www.reddit.com/r/dataisbeautiful - some interesting original content on personal behaviour and social commentary.\n",
    "\n",
    "\n"
   ]
  },
  {
   "cell_type": "code",
   "execution_count": null,
   "metadata": {
    "collapsed": true
   },
   "outputs": [],
   "source": []
  }
 ],
 "metadata": {
  "kernelspec": {
   "display_name": "Python 2",
   "language": "python",
   "name": "python2"
  },
  "language_info": {
   "codemirror_mode": {
    "name": "ipython",
    "version": 2
   },
   "file_extension": ".py",
   "mimetype": "text/x-python",
   "name": "python",
   "nbconvert_exporter": "python",
   "pygments_lexer": "ipython2",
   "version": "2.7.11"
  }
 },
 "nbformat": 4,
 "nbformat_minor": 0
}
